{
 "cells": [
  {
   "cell_type": "code",
   "execution_count": 1,
   "metadata": {},
   "outputs": [],
   "source": [
    "import sympy as sp"
   ]
  },
  {
   "cell_type": "code",
   "execution_count": 2,
   "metadata": {},
   "outputs": [],
   "source": [
    "t, t0, t1, t2, t3, P0, P1, P2, P3 = sp.symbols('t t_0 t_1 t_2 t_3 P_0 P_1 P_2 P_3')\n",
    "A1 = ((t1 - t) / (t1 - t0)) * P0 + ((t - t0) / (t1 - t0)) * P1\n",
    "A2 = ((t2 - t) / (t2 - t1)) * P1 + ((t - t1) / (t2 - t1)) * P2\n",
    "A3 = ((t3 - t) / (t3 - t2)) * P2 + ((t - t2) / (t3 - t2)) * P3\n",
    "B1 = ((t2 - t) / (t2 - t0)) * A1 + ((t - t0) / (t2 - t0)) * A2\n",
    "B2 = ((t3 - t) / (t3 - t1)) * A2 + ((t - t1) / (t3 - t1)) * A3\n",
    "C  = ((t2 - t) / (t2 - t1)) * B1 + ((t - t1) / (t2 - t1)) * B2"
   ]
  },
  {
   "cell_type": "code",
   "execution_count": 3,
   "metadata": {},
   "outputs": [],
   "source": [
    "# Adjust the time range so that t' is in [0, 1]\n",
    "t_prime = sp.symbols('t\\'')\n",
    "poly = C.subs(t, t_prime * (t2 - t1) + t1).expand()"
   ]
  },
  {
   "cell_type": "code",
   "execution_count": 4,
   "metadata": {},
   "outputs": [],
   "source": [
    "def generate_matrix_form(formula, t):\n",
    "    formula_expanded = formula.expand().collect(t)\n",
    "    return sp.Matrix([[\n",
    "        formula_expanded.coeff(t, i).coeff(P0),\n",
    "        formula_expanded.coeff(t, i).coeff(P1),\n",
    "        formula_expanded.coeff(t, i).coeff(P2),\n",
    "        formula_expanded.coeff(t, i).coeff(P3),\n",
    "    ] for i in range(4)])"
   ]
  },
  {
   "cell_type": "code",
   "execution_count": 5,
   "metadata": {},
   "outputs": [],
   "source": [
    "m = generate_matrix_form(poly, t_prime)\n",
    "m_simple = m.applyfunc(lambda x: x.factor())"
   ]
  },
  {
   "cell_type": "code",
   "execution_count": 6,
   "metadata": {},
   "outputs": [
    {
     "data": {
      "text/latex": [
       "$\\displaystyle \\left[\\begin{matrix}0 & 1 & 0 & 0\\\\- \\frac{l_{1}^{2}}{l_{0} \\left(l_{0} + l_{1}\\right)} & \\frac{- l_{0} + l_{1}}{l_{0}} & \\frac{l_{0}}{l_{0} + l_{1}} & 0\\\\\\frac{2 l_{1}^{2}}{l_{0} \\left(l_{0} + l_{1}\\right)} & - \\frac{l_{1} \\left(- l_{0} - 2 l_{1} - 2 l_{2}\\right)}{l_{0} \\left(- l_{1} - l_{2}\\right)} & - \\frac{l_{1} \\left(- l_{0} - l_{1} - 2 l_{2}\\right)}{l_{2} \\left(l_{0} + l_{1}\\right)} & \\frac{l_{1}^{2}}{l_{2} \\left(- l_{1} - l_{2}\\right)}\\\\- \\frac{l_{1}^{2}}{l_{0} \\left(l_{0} + l_{1}\\right)} & - \\frac{l_{1} \\left(l_{0} + l_{1} + l_{2}\\right)}{l_{0} \\left(- l_{1} - l_{2}\\right)} & - \\frac{l_{1} \\left(l_{0} + l_{1} + l_{2}\\right)}{l_{2} \\left(l_{0} + l_{1}\\right)} & - \\frac{l_{1}^{2}}{l_{2} \\left(- l_{1} - l_{2}\\right)}\\end{matrix}\\right]$"
      ],
      "text/plain": [
       "Matrix([\n",
       "[                         0,                                              1,                                           0,                          0],\n",
       "[ -l_1**2/(l_0*(l_0 + l_1)),                               (-l_0 + l_1)/l_0,                             l_0/(l_0 + l_1),                          0],\n",
       "[2*l_1**2/(l_0*(l_0 + l_1)), -l_1*(-l_0 - 2*l_1 - 2*l_2)/(l_0*(-l_1 - l_2)), -l_1*(-l_0 - l_1 - 2*l_2)/(l_2*(l_0 + l_1)),  l_1**2/(l_2*(-l_1 - l_2))],\n",
       "[ -l_1**2/(l_0*(l_0 + l_1)),      -l_1*(l_0 + l_1 + l_2)/(l_0*(-l_1 - l_2)),    -l_1*(l_0 + l_1 + l_2)/(l_2*(l_0 + l_1)), -l_1**2/(l_2*(-l_1 - l_2))]])"
      ]
     },
     "execution_count": 6,
     "metadata": {},
     "output_type": "execute_result"
    }
   ],
   "source": [
    "l0, l1, l2= sp.symbols('l_0 l_1 l_2')\n",
    "m_simple.subs({t0: 0, t1: l0, t2: l0 + l1, t3: l0 + l1 + l2})"
   ]
  },
  {
   "cell_type": "code",
   "execution_count": 7,
   "metadata": {},
   "outputs": [
    {
     "data": {
      "text/latex": [
       "$\\displaystyle \\left[\\begin{matrix}0 & 2 & 0 & 0\\\\-1 & 0 & 1 & 0\\\\2 & -5 & 4 & -1\\\\-1 & 3 & -3 & 1\\end{matrix}\\right]$"
      ],
      "text/plain": [
       "Matrix([\n",
       "[ 0,  2,  0,  0],\n",
       "[-1,  0,  1,  0],\n",
       "[ 2, -5,  4, -1],\n",
       "[-1,  3, -3,  1]])"
      ]
     },
     "execution_count": 7,
     "metadata": {},
     "output_type": "execute_result"
    }
   ],
   "source": [
    "m_simple.subs({t0: 0, t1: 1, t2: 2, t3: 3, }) * 2"
   ]
  },
  {
   "cell_type": "code",
   "execution_count": 8,
   "metadata": {},
   "outputs": [],
   "source": [
    "a = [[sp.Symbol(f'a_{i}{j}') for j in range(4)] for i in range(4)]\n",
    "A = sp.Matrix(a)\n",
    "\n",
    "B = sp.Matrix([\n",
    "    [1, 0, 0, 0],\n",
    "    [-3, 3, 0, 0],\n",
    "    [3, -6, 3, 0],\n",
    "    [-1, 3, -3, 1],\n",
    "])"
   ]
  },
  {
   "cell_type": "code",
   "execution_count": 9,
   "metadata": {},
   "outputs": [
    {
     "data": {
      "text/latex": [
       "$\\displaystyle \\left[\\begin{matrix}P_{1} a_{01}\\\\\\frac{P_{0} a_{10}}{3} + P_{1} \\left(a_{01} + \\frac{a_{11}}{3}\\right) + \\frac{P_{2} a_{12}}{3}\\\\P_{0} \\cdot \\left(\\frac{2 a_{10}}{3} + \\frac{a_{20}}{3}\\right) + P_{1} \\left(a_{01} + \\frac{2 a_{11}}{3} + \\frac{a_{21}}{3}\\right) + P_{2} \\cdot \\left(\\frac{2 a_{12}}{3} + \\frac{a_{22}}{3}\\right) + \\frac{P_{3} a_{23}}{3}\\\\P_{0} \\left(a_{10} + a_{20} + a_{30}\\right) + P_{1} \\left(a_{01} + a_{11} + a_{21} + a_{31}\\right) + P_{2} \\left(a_{12} + a_{22} + a_{32}\\right) + P_{3} \\left(a_{23} + a_{33}\\right)\\end{matrix}\\right]$"
      ],
      "text/plain": [
       "Matrix([\n",
       "[                                                                                                 P_1*a_01],\n",
       "[                                                            P_0*a_10/3 + P_1*(a_01 + a_11/3) + P_2*a_12/3],\n",
       "[          P_0*(2*a_10/3 + a_20/3) + P_1*(a_01 + 2*a_11/3 + a_21/3) + P_2*(2*a_12/3 + a_22/3) + P_3*a_23/3],\n",
       "[P_0*(a_10 + a_20 + a_30) + P_1*(a_01 + a_11 + a_21 + a_31) + P_2*(a_12 + a_22 + a_32) + P_3*(a_23 + a_33)]])"
      ]
     },
     "execution_count": 9,
     "metadata": {},
     "output_type": "execute_result"
    }
   ],
   "source": [
    "(B.inv() * A * sp.Matrix([P0, P1, P2, P3])).subs({'a_00': 0, 'a_02': 0, 'a_03': 0, 'a_13': 0})"
   ]
  },
  {
   "cell_type": "code",
   "execution_count": null,
   "metadata": {},
   "outputs": [],
   "source": []
  }
 ],
 "metadata": {
  "kernelspec": {
   "display_name": "Python 3",
   "language": "python",
   "name": "python3"
  },
  "language_info": {
   "codemirror_mode": {
    "name": "ipython",
    "version": 3
   },
   "file_extension": ".py",
   "mimetype": "text/x-python",
   "name": "python",
   "nbconvert_exporter": "python",
   "pygments_lexer": "ipython3",
   "version": "3.9.7"
  },
  "orig_nbformat": 4,
  "vscode": {
   "interpreter": {
    "hash": "beeaf4f2283ad6891c7b10340d15c7fa624df0c5cb2987395503718994e1b958"
   }
  }
 },
 "nbformat": 4,
 "nbformat_minor": 2
}
